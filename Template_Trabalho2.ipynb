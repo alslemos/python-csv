{
  "cells": [
    {
      "cell_type": "markdown",
      "id": "88430bf1",
      "metadata": {
        "id": "88430bf1"
      },
      "source": [
        "# <font color='blue'>Introdução à Linguagem de programação Python</font>\n",
        "\n",
        "#### Informática Biomédica\n",
        "#### Universidade Federal de Ciências da Saúde de Porto Alegre - UFCSPA  \n",
        "  \n",
        "\n",
        "<img src=https://cdn-images-1.medium.com/max/1600/0*17G8RRzpccm_7F0U.png width=\"400\">\n",
        "\n",
        "**Disciplina optativa ministrada por:**\n",
        "* **Profa. Viviane Rodrigues Botelho**\n",
        "* **Profa. Ana Trindade Winck**\n",
        "\n",
        "----\n",
        "\n"
      ]
    },
    {
      "cell_type": "markdown",
      "id": "1858bbc8",
      "metadata": {
        "id": "1858bbc8"
      },
      "source": [
        "# <font color=red> Membros do grupo (até 3 pessoas):\n",
        " Alexandre Lemos, Bianca Bernardi\n",
        "  "
      ]
    },
    {
      "cell_type": "markdown",
      "id": "5071b624",
      "metadata": {
        "id": "5071b624"
      },
      "source": [
        "# <font color=red>Trabalho 2\n",
        "Os dados contidos no arquivo **insurance.csv** contém informações referentes a  despesas médicas individuais cobradas pelo seguro saúde de beneficiário nos EUA. Estão contidos no arquivo os seguintes dados:\n",
        "\n",
        "- Idade: idade do beneficiário principal.\n",
        "- Sexo: sexo do beneficiário principal.\n",
        "- IMC: índice de massa corporal do beneficiário principal.\n",
        "- Filhos: número de filhos cobertos pelo planos\n",
        "- Fumante: beneficiário principal é fumante?\n",
        "- Encargos: valor dos encargos cobrados (em dólar).\n",
        "\n",
        "Dataset adaptado de: https://www.kaggle.com/mirichoi0218/insurance\n",
        " \n",
        "    \n",
        "---"
      ]
    },
    {
      "cell_type": "markdown",
      "id": "92b02ac9",
      "metadata": {
        "id": "92b02ac9"
      },
      "source": [
        "## Questão 1: Peso 2,5\n",
        "- Importe o arquivo 'insurance.csv' na forma de dataframe, dando o nome de **DF1**\n",
        "<br>\n",
        "\n",
        "- Utilizando as funcionalidades do Pandas (**isto é, sem usar \"for\" ou \"if\"**):\n",
        "    - Exiba os dez últimos elementos do **DF1**\n",
        "    - Imprima o número de colunas do DataFrame\n",
        "    - Imprima a média e o desvio padrão da coluna Idade. **Utilize o numpy para fazer os cálculo**.\n",
        "    - Exiba os principais parâmeros estatísticos do DF1 usando a função apropriada do Pandas.\n",
        "<br>\n",
        " \n",
        "- Inclua no **DF1** chamada **Taxa por pessoa** contendo o o resultado do seguinte cálculo:\n",
        "\\begin{equation}\n",
        "\\frac{Taxas}{Filhos + 1}\n",
        "\\end{equation}\n",
        "<br>\n",
        "- Utilizando as funcionalidades do Pandas (**isto é, sem usar \"for\" ou \"if\"**), modifique o conteúdo da coluna **Fuma** substituindo **yes** por **1** e **no** por **0** \n",
        "<br>\n",
        "\n",
        "- Utilizando os comandos de filtragem do Pandas (**isto é, sem usar \"for\" ou \"if\"**), indique o número de indivíduos com idade superior a 30 anos."
      ]
    },
    {
      "cell_type": "code",
      "execution_count": null,
      "id": "ec90ad21",
      "metadata": {
        "id": "ec90ad21"
      },
      "outputs": [],
      "source": [
        "import pandas as pd\n",
        "from scipy import optimize\n",
        "import numpy as np\n",
        "import matplotlib.pyplot as plt "
      ]
    },
    {
      "cell_type": "code",
      "execution_count": null,
      "id": "533eed6a",
      "metadata": {
        "colab": {
          "base_uri": "https://localhost:8080/"
        },
        "id": "533eed6a",
        "outputId": "f081963e-2f9e-4d30-c584-7c23f3671e41"
      },
      "outputs": [
        {
          "output_type": "stream",
          "name": "stdout",
          "text": [
            "Mounted at /content/drive\n"
          ]
        }
      ],
      "source": [
        "from google.colab import drive\n",
        "drive.mount('/content/drive')"
      ]
    },
    {
      "cell_type": "code",
      "source": [
        "df1 = pd.read_csv(\"/content/drive/MyDrive/5semestre/Python/2022/Trabalho2/insurance.csv\", sep=';')\n",
        "df1"
      ],
      "metadata": {
        "colab": {
          "base_uri": "https://localhost:8080/",
          "height": 424
        },
        "id": "CMDh_DZNtALy",
        "outputId": "ac4f3174-e0cb-4383-d7db-b5b920441939"
      },
      "id": "CMDh_DZNtALy",
      "execution_count": null,
      "outputs": [
        {
          "output_type": "execute_result",
          "data": {
            "text/plain": [
              "      Idade       Sexo     IMC  Filhos Fuma        Taxas\n",
              "0        19   feminino  27.900       0  yes  16884.92400\n",
              "1        18  masculino  33.770       1   no   1725.55230\n",
              "2        28  masculino  33.000       3   no   4449.46200\n",
              "3        33  masculino  22.705       0   no  21984.47061\n",
              "4        32  masculino  28.880       0   no   3866.85520\n",
              "...     ...        ...     ...     ...  ...          ...\n",
              "1333     50  masculino  30.970       3   no  10600.54830\n",
              "1334     18   feminino  31.920       0   no   2205.98080\n",
              "1335     18   feminino  36.850       0   no   1629.83350\n",
              "1336     21   feminino  25.800       0   no   2007.94500\n",
              "1337     61   feminino  29.070       0  yes  29141.36030\n",
              "\n",
              "[1338 rows x 6 columns]"
            ],
            "text/html": [
              "\n",
              "  <div id=\"df-3b806790-4e44-43d9-9c42-47814152f22a\">\n",
              "    <div class=\"colab-df-container\">\n",
              "      <div>\n",
              "<style scoped>\n",
              "    .dataframe tbody tr th:only-of-type {\n",
              "        vertical-align: middle;\n",
              "    }\n",
              "\n",
              "    .dataframe tbody tr th {\n",
              "        vertical-align: top;\n",
              "    }\n",
              "\n",
              "    .dataframe thead th {\n",
              "        text-align: right;\n",
              "    }\n",
              "</style>\n",
              "<table border=\"1\" class=\"dataframe\">\n",
              "  <thead>\n",
              "    <tr style=\"text-align: right;\">\n",
              "      <th></th>\n",
              "      <th>Idade</th>\n",
              "      <th>Sexo</th>\n",
              "      <th>IMC</th>\n",
              "      <th>Filhos</th>\n",
              "      <th>Fuma</th>\n",
              "      <th>Taxas</th>\n",
              "    </tr>\n",
              "  </thead>\n",
              "  <tbody>\n",
              "    <tr>\n",
              "      <th>0</th>\n",
              "      <td>19</td>\n",
              "      <td>feminino</td>\n",
              "      <td>27.900</td>\n",
              "      <td>0</td>\n",
              "      <td>yes</td>\n",
              "      <td>16884.92400</td>\n",
              "    </tr>\n",
              "    <tr>\n",
              "      <th>1</th>\n",
              "      <td>18</td>\n",
              "      <td>masculino</td>\n",
              "      <td>33.770</td>\n",
              "      <td>1</td>\n",
              "      <td>no</td>\n",
              "      <td>1725.55230</td>\n",
              "    </tr>\n",
              "    <tr>\n",
              "      <th>2</th>\n",
              "      <td>28</td>\n",
              "      <td>masculino</td>\n",
              "      <td>33.000</td>\n",
              "      <td>3</td>\n",
              "      <td>no</td>\n",
              "      <td>4449.46200</td>\n",
              "    </tr>\n",
              "    <tr>\n",
              "      <th>3</th>\n",
              "      <td>33</td>\n",
              "      <td>masculino</td>\n",
              "      <td>22.705</td>\n",
              "      <td>0</td>\n",
              "      <td>no</td>\n",
              "      <td>21984.47061</td>\n",
              "    </tr>\n",
              "    <tr>\n",
              "      <th>4</th>\n",
              "      <td>32</td>\n",
              "      <td>masculino</td>\n",
              "      <td>28.880</td>\n",
              "      <td>0</td>\n",
              "      <td>no</td>\n",
              "      <td>3866.85520</td>\n",
              "    </tr>\n",
              "    <tr>\n",
              "      <th>...</th>\n",
              "      <td>...</td>\n",
              "      <td>...</td>\n",
              "      <td>...</td>\n",
              "      <td>...</td>\n",
              "      <td>...</td>\n",
              "      <td>...</td>\n",
              "    </tr>\n",
              "    <tr>\n",
              "      <th>1333</th>\n",
              "      <td>50</td>\n",
              "      <td>masculino</td>\n",
              "      <td>30.970</td>\n",
              "      <td>3</td>\n",
              "      <td>no</td>\n",
              "      <td>10600.54830</td>\n",
              "    </tr>\n",
              "    <tr>\n",
              "      <th>1334</th>\n",
              "      <td>18</td>\n",
              "      <td>feminino</td>\n",
              "      <td>31.920</td>\n",
              "      <td>0</td>\n",
              "      <td>no</td>\n",
              "      <td>2205.98080</td>\n",
              "    </tr>\n",
              "    <tr>\n",
              "      <th>1335</th>\n",
              "      <td>18</td>\n",
              "      <td>feminino</td>\n",
              "      <td>36.850</td>\n",
              "      <td>0</td>\n",
              "      <td>no</td>\n",
              "      <td>1629.83350</td>\n",
              "    </tr>\n",
              "    <tr>\n",
              "      <th>1336</th>\n",
              "      <td>21</td>\n",
              "      <td>feminino</td>\n",
              "      <td>25.800</td>\n",
              "      <td>0</td>\n",
              "      <td>no</td>\n",
              "      <td>2007.94500</td>\n",
              "    </tr>\n",
              "    <tr>\n",
              "      <th>1337</th>\n",
              "      <td>61</td>\n",
              "      <td>feminino</td>\n",
              "      <td>29.070</td>\n",
              "      <td>0</td>\n",
              "      <td>yes</td>\n",
              "      <td>29141.36030</td>\n",
              "    </tr>\n",
              "  </tbody>\n",
              "</table>\n",
              "<p>1338 rows × 6 columns</p>\n",
              "</div>\n",
              "      <button class=\"colab-df-convert\" onclick=\"convertToInteractive('df-3b806790-4e44-43d9-9c42-47814152f22a')\"\n",
              "              title=\"Convert this dataframe to an interactive table.\"\n",
              "              style=\"display:none;\">\n",
              "        \n",
              "  <svg xmlns=\"http://www.w3.org/2000/svg\" height=\"24px\"viewBox=\"0 0 24 24\"\n",
              "       width=\"24px\">\n",
              "    <path d=\"M0 0h24v24H0V0z\" fill=\"none\"/>\n",
              "    <path d=\"M18.56 5.44l.94 2.06.94-2.06 2.06-.94-2.06-.94-.94-2.06-.94 2.06-2.06.94zm-11 1L8.5 8.5l.94-2.06 2.06-.94-2.06-.94L8.5 2.5l-.94 2.06-2.06.94zm10 10l.94 2.06.94-2.06 2.06-.94-2.06-.94-.94-2.06-.94 2.06-2.06.94z\"/><path d=\"M17.41 7.96l-1.37-1.37c-.4-.4-.92-.59-1.43-.59-.52 0-1.04.2-1.43.59L10.3 9.45l-7.72 7.72c-.78.78-.78 2.05 0 2.83L4 21.41c.39.39.9.59 1.41.59.51 0 1.02-.2 1.41-.59l7.78-7.78 2.81-2.81c.8-.78.8-2.07 0-2.86zM5.41 20L4 18.59l7.72-7.72 1.47 1.35L5.41 20z\"/>\n",
              "  </svg>\n",
              "      </button>\n",
              "      \n",
              "  <style>\n",
              "    .colab-df-container {\n",
              "      display:flex;\n",
              "      flex-wrap:wrap;\n",
              "      gap: 12px;\n",
              "    }\n",
              "\n",
              "    .colab-df-convert {\n",
              "      background-color: #E8F0FE;\n",
              "      border: none;\n",
              "      border-radius: 50%;\n",
              "      cursor: pointer;\n",
              "      display: none;\n",
              "      fill: #1967D2;\n",
              "      height: 32px;\n",
              "      padding: 0 0 0 0;\n",
              "      width: 32px;\n",
              "    }\n",
              "\n",
              "    .colab-df-convert:hover {\n",
              "      background-color: #E2EBFA;\n",
              "      box-shadow: 0px 1px 2px rgba(60, 64, 67, 0.3), 0px 1px 3px 1px rgba(60, 64, 67, 0.15);\n",
              "      fill: #174EA6;\n",
              "    }\n",
              "\n",
              "    [theme=dark] .colab-df-convert {\n",
              "      background-color: #3B4455;\n",
              "      fill: #D2E3FC;\n",
              "    }\n",
              "\n",
              "    [theme=dark] .colab-df-convert:hover {\n",
              "      background-color: #434B5C;\n",
              "      box-shadow: 0px 1px 3px 1px rgba(0, 0, 0, 0.15);\n",
              "      filter: drop-shadow(0px 1px 2px rgba(0, 0, 0, 0.3));\n",
              "      fill: #FFFFFF;\n",
              "    }\n",
              "  </style>\n",
              "\n",
              "      <script>\n",
              "        const buttonEl =\n",
              "          document.querySelector('#df-3b806790-4e44-43d9-9c42-47814152f22a button.colab-df-convert');\n",
              "        buttonEl.style.display =\n",
              "          google.colab.kernel.accessAllowed ? 'block' : 'none';\n",
              "\n",
              "        async function convertToInteractive(key) {\n",
              "          const element = document.querySelector('#df-3b806790-4e44-43d9-9c42-47814152f22a');\n",
              "          const dataTable =\n",
              "            await google.colab.kernel.invokeFunction('convertToInteractive',\n",
              "                                                     [key], {});\n",
              "          if (!dataTable) return;\n",
              "\n",
              "          const docLinkHtml = 'Like what you see? Visit the ' +\n",
              "            '<a target=\"_blank\" href=https://colab.research.google.com/notebooks/data_table.ipynb>data table notebook</a>'\n",
              "            + ' to learn more about interactive tables.';\n",
              "          element.innerHTML = '';\n",
              "          dataTable['output_type'] = 'display_data';\n",
              "          await google.colab.output.renderOutput(dataTable, element);\n",
              "          const docLink = document.createElement('div');\n",
              "          docLink.innerHTML = docLinkHtml;\n",
              "          element.appendChild(docLink);\n",
              "        }\n",
              "      </script>\n",
              "    </div>\n",
              "  </div>\n",
              "  "
            ]
          },
          "metadata": {},
          "execution_count": 4
        }
      ]
    },
    {
      "cell_type": "code",
      "source": [
        "#Exiba os dez últimos elementos do DF1\n",
        "df1.tail(10)"
      ],
      "metadata": {
        "colab": {
          "base_uri": "https://localhost:8080/",
          "height": 363
        },
        "id": "-k6IggMOuj-J",
        "outputId": "2cd438bf-6faa-428d-a956-ba32907cf9a5"
      },
      "id": "-k6IggMOuj-J",
      "execution_count": null,
      "outputs": [
        {
          "output_type": "execute_result",
          "data": {
            "text/plain": [
              "      Idade       Sexo     IMC  Filhos Fuma        Taxas\n",
              "1328     23   feminino  24.225       2   no  22395.74424\n",
              "1329     52  masculino  38.600       2   no  10325.20600\n",
              "1330     57   feminino  25.740       2   no  12629.16560\n",
              "1331     23   feminino  33.400       0   no  10795.93733\n",
              "1332     52   feminino  44.700       3   no  11411.68500\n",
              "1333     50  masculino  30.970       3   no  10600.54830\n",
              "1334     18   feminino  31.920       0   no   2205.98080\n",
              "1335     18   feminino  36.850       0   no   1629.83350\n",
              "1336     21   feminino  25.800       0   no   2007.94500\n",
              "1337     61   feminino  29.070       0  yes  29141.36030"
            ],
            "text/html": [
              "\n",
              "  <div id=\"df-82e50a5e-cb3f-452d-aa53-2206d3a9cf43\">\n",
              "    <div class=\"colab-df-container\">\n",
              "      <div>\n",
              "<style scoped>\n",
              "    .dataframe tbody tr th:only-of-type {\n",
              "        vertical-align: middle;\n",
              "    }\n",
              "\n",
              "    .dataframe tbody tr th {\n",
              "        vertical-align: top;\n",
              "    }\n",
              "\n",
              "    .dataframe thead th {\n",
              "        text-align: right;\n",
              "    }\n",
              "</style>\n",
              "<table border=\"1\" class=\"dataframe\">\n",
              "  <thead>\n",
              "    <tr style=\"text-align: right;\">\n",
              "      <th></th>\n",
              "      <th>Idade</th>\n",
              "      <th>Sexo</th>\n",
              "      <th>IMC</th>\n",
              "      <th>Filhos</th>\n",
              "      <th>Fuma</th>\n",
              "      <th>Taxas</th>\n",
              "    </tr>\n",
              "  </thead>\n",
              "  <tbody>\n",
              "    <tr>\n",
              "      <th>1328</th>\n",
              "      <td>23</td>\n",
              "      <td>feminino</td>\n",
              "      <td>24.225</td>\n",
              "      <td>2</td>\n",
              "      <td>no</td>\n",
              "      <td>22395.74424</td>\n",
              "    </tr>\n",
              "    <tr>\n",
              "      <th>1329</th>\n",
              "      <td>52</td>\n",
              "      <td>masculino</td>\n",
              "      <td>38.600</td>\n",
              "      <td>2</td>\n",
              "      <td>no</td>\n",
              "      <td>10325.20600</td>\n",
              "    </tr>\n",
              "    <tr>\n",
              "      <th>1330</th>\n",
              "      <td>57</td>\n",
              "      <td>feminino</td>\n",
              "      <td>25.740</td>\n",
              "      <td>2</td>\n",
              "      <td>no</td>\n",
              "      <td>12629.16560</td>\n",
              "    </tr>\n",
              "    <tr>\n",
              "      <th>1331</th>\n",
              "      <td>23</td>\n",
              "      <td>feminino</td>\n",
              "      <td>33.400</td>\n",
              "      <td>0</td>\n",
              "      <td>no</td>\n",
              "      <td>10795.93733</td>\n",
              "    </tr>\n",
              "    <tr>\n",
              "      <th>1332</th>\n",
              "      <td>52</td>\n",
              "      <td>feminino</td>\n",
              "      <td>44.700</td>\n",
              "      <td>3</td>\n",
              "      <td>no</td>\n",
              "      <td>11411.68500</td>\n",
              "    </tr>\n",
              "    <tr>\n",
              "      <th>1333</th>\n",
              "      <td>50</td>\n",
              "      <td>masculino</td>\n",
              "      <td>30.970</td>\n",
              "      <td>3</td>\n",
              "      <td>no</td>\n",
              "      <td>10600.54830</td>\n",
              "    </tr>\n",
              "    <tr>\n",
              "      <th>1334</th>\n",
              "      <td>18</td>\n",
              "      <td>feminino</td>\n",
              "      <td>31.920</td>\n",
              "      <td>0</td>\n",
              "      <td>no</td>\n",
              "      <td>2205.98080</td>\n",
              "    </tr>\n",
              "    <tr>\n",
              "      <th>1335</th>\n",
              "      <td>18</td>\n",
              "      <td>feminino</td>\n",
              "      <td>36.850</td>\n",
              "      <td>0</td>\n",
              "      <td>no</td>\n",
              "      <td>1629.83350</td>\n",
              "    </tr>\n",
              "    <tr>\n",
              "      <th>1336</th>\n",
              "      <td>21</td>\n",
              "      <td>feminino</td>\n",
              "      <td>25.800</td>\n",
              "      <td>0</td>\n",
              "      <td>no</td>\n",
              "      <td>2007.94500</td>\n",
              "    </tr>\n",
              "    <tr>\n",
              "      <th>1337</th>\n",
              "      <td>61</td>\n",
              "      <td>feminino</td>\n",
              "      <td>29.070</td>\n",
              "      <td>0</td>\n",
              "      <td>yes</td>\n",
              "      <td>29141.36030</td>\n",
              "    </tr>\n",
              "  </tbody>\n",
              "</table>\n",
              "</div>\n",
              "      <button class=\"colab-df-convert\" onclick=\"convertToInteractive('df-82e50a5e-cb3f-452d-aa53-2206d3a9cf43')\"\n",
              "              title=\"Convert this dataframe to an interactive table.\"\n",
              "              style=\"display:none;\">\n",
              "        \n",
              "  <svg xmlns=\"http://www.w3.org/2000/svg\" height=\"24px\"viewBox=\"0 0 24 24\"\n",
              "       width=\"24px\">\n",
              "    <path d=\"M0 0h24v24H0V0z\" fill=\"none\"/>\n",
              "    <path d=\"M18.56 5.44l.94 2.06.94-2.06 2.06-.94-2.06-.94-.94-2.06-.94 2.06-2.06.94zm-11 1L8.5 8.5l.94-2.06 2.06-.94-2.06-.94L8.5 2.5l-.94 2.06-2.06.94zm10 10l.94 2.06.94-2.06 2.06-.94-2.06-.94-.94-2.06-.94 2.06-2.06.94z\"/><path d=\"M17.41 7.96l-1.37-1.37c-.4-.4-.92-.59-1.43-.59-.52 0-1.04.2-1.43.59L10.3 9.45l-7.72 7.72c-.78.78-.78 2.05 0 2.83L4 21.41c.39.39.9.59 1.41.59.51 0 1.02-.2 1.41-.59l7.78-7.78 2.81-2.81c.8-.78.8-2.07 0-2.86zM5.41 20L4 18.59l7.72-7.72 1.47 1.35L5.41 20z\"/>\n",
              "  </svg>\n",
              "      </button>\n",
              "      \n",
              "  <style>\n",
              "    .colab-df-container {\n",
              "      display:flex;\n",
              "      flex-wrap:wrap;\n",
              "      gap: 12px;\n",
              "    }\n",
              "\n",
              "    .colab-df-convert {\n",
              "      background-color: #E8F0FE;\n",
              "      border: none;\n",
              "      border-radius: 50%;\n",
              "      cursor: pointer;\n",
              "      display: none;\n",
              "      fill: #1967D2;\n",
              "      height: 32px;\n",
              "      padding: 0 0 0 0;\n",
              "      width: 32px;\n",
              "    }\n",
              "\n",
              "    .colab-df-convert:hover {\n",
              "      background-color: #E2EBFA;\n",
              "      box-shadow: 0px 1px 2px rgba(60, 64, 67, 0.3), 0px 1px 3px 1px rgba(60, 64, 67, 0.15);\n",
              "      fill: #174EA6;\n",
              "    }\n",
              "\n",
              "    [theme=dark] .colab-df-convert {\n",
              "      background-color: #3B4455;\n",
              "      fill: #D2E3FC;\n",
              "    }\n",
              "\n",
              "    [theme=dark] .colab-df-convert:hover {\n",
              "      background-color: #434B5C;\n",
              "      box-shadow: 0px 1px 3px 1px rgba(0, 0, 0, 0.15);\n",
              "      filter: drop-shadow(0px 1px 2px rgba(0, 0, 0, 0.3));\n",
              "      fill: #FFFFFF;\n",
              "    }\n",
              "  </style>\n",
              "\n",
              "      <script>\n",
              "        const buttonEl =\n",
              "          document.querySelector('#df-82e50a5e-cb3f-452d-aa53-2206d3a9cf43 button.colab-df-convert');\n",
              "        buttonEl.style.display =\n",
              "          google.colab.kernel.accessAllowed ? 'block' : 'none';\n",
              "\n",
              "        async function convertToInteractive(key) {\n",
              "          const element = document.querySelector('#df-82e50a5e-cb3f-452d-aa53-2206d3a9cf43');\n",
              "          const dataTable =\n",
              "            await google.colab.kernel.invokeFunction('convertToInteractive',\n",
              "                                                     [key], {});\n",
              "          if (!dataTable) return;\n",
              "\n",
              "          const docLinkHtml = 'Like what you see? Visit the ' +\n",
              "            '<a target=\"_blank\" href=https://colab.research.google.com/notebooks/data_table.ipynb>data table notebook</a>'\n",
              "            + ' to learn more about interactive tables.';\n",
              "          element.innerHTML = '';\n",
              "          dataTable['output_type'] = 'display_data';\n",
              "          await google.colab.output.renderOutput(dataTable, element);\n",
              "          const docLink = document.createElement('div');\n",
              "          docLink.innerHTML = docLinkHtml;\n",
              "          element.appendChild(docLink);\n",
              "        }\n",
              "      </script>\n",
              "    </div>\n",
              "  </div>\n",
              "  "
            ]
          },
          "metadata": {},
          "execution_count": 5
        }
      ]
    },
    {
      "cell_type": "code",
      "source": [
        "#Imprima o número de colunas do DataFrame\n",
        "print(df1.shape[1])"
      ],
      "metadata": {
        "colab": {
          "base_uri": "https://localhost:8080/"
        },
        "id": "jrGyUTztu5yF",
        "outputId": "cfebda3f-63b2-4c69-81a6-8e7e13f30d4f"
      },
      "id": "jrGyUTztu5yF",
      "execution_count": null,
      "outputs": [
        {
          "output_type": "stream",
          "name": "stdout",
          "text": [
            "6\n"
          ]
        }
      ]
    },
    {
      "cell_type": "code",
      "source": [
        "#Imprima a média e o desvio padrão da coluna Idade. Utilize o numpy para fazer os cálculo.\n",
        "midade = np.mean(df1['Idade'])\n",
        "didade = np.std(df1['Idade'])\n",
        "\n",
        "print(\"Média das idades:\",midade)\n",
        "print(\"Desvio padrão:\",didade)\n",
        "\n",
        "\n",
        "#print(\"a média das idades é :\", np.mean(df1['Idade']))"
      ],
      "metadata": {
        "colab": {
          "base_uri": "https://localhost:8080/"
        },
        "id": "6KtupU4jvR1O",
        "outputId": "e927e1ef-5eb5-4643-fd89-41c7f84fcff8"
      },
      "id": "6KtupU4jvR1O",
      "execution_count": null,
      "outputs": [
        {
          "output_type": "stream",
          "name": "stdout",
          "text": [
            "Média das idades: 39.20702541106129\n",
            "Desvio padrão: 14.044709038954522\n"
          ]
        }
      ]
    },
    {
      "cell_type": "code",
      "source": [
        "#Exiba os principais parâmeros estatísticos do DF1 usando a função apropriada do Pandas.\n",
        "print(df1.info());\n",
        "print(df1.describe());"
      ],
      "metadata": {
        "colab": {
          "base_uri": "https://localhost:8080/"
        },
        "id": "ru1Hw0RlxB1u",
        "outputId": "4d8b6989-511d-4210-ff11-d0e14bc947c3"
      },
      "id": "ru1Hw0RlxB1u",
      "execution_count": null,
      "outputs": [
        {
          "output_type": "stream",
          "name": "stdout",
          "text": [
            "<class 'pandas.core.frame.DataFrame'>\n",
            "RangeIndex: 1338 entries, 0 to 1337\n",
            "Data columns (total 6 columns):\n",
            " #   Column  Non-Null Count  Dtype  \n",
            "---  ------  --------------  -----  \n",
            " 0   Idade   1338 non-null   int64  \n",
            " 1   Sexo    1338 non-null   object \n",
            " 2   IMC     1338 non-null   float64\n",
            " 3   Filhos  1338 non-null   int64  \n",
            " 4   Fuma    1338 non-null   object \n",
            " 5   Taxas   1338 non-null   float64\n",
            "dtypes: float64(2), int64(2), object(2)\n",
            "memory usage: 62.8+ KB\n",
            "None\n",
            "             Idade          IMC       Filhos         Taxas\n",
            "count  1338.000000  1338.000000  1338.000000   1338.000000\n",
            "mean     39.207025    30.663397     1.094918  13270.422265\n",
            "std      14.049960     6.098187     1.205493  12110.011237\n",
            "min      18.000000    15.960000     0.000000   1121.873900\n",
            "25%      27.000000    26.296250     0.000000   4740.287150\n",
            "50%      39.000000    30.400000     1.000000   9382.033000\n",
            "75%      51.000000    34.693750     2.000000  16639.912515\n",
            "max      64.000000    53.130000     5.000000  63770.428010\n"
          ]
        }
      ]
    },
    {
      "cell_type": "code",
      "source": [
        "#Inclua no DF1 chamada Taxa por pessoa contendo o o resultado do seguinte cálculo: taxas/filho+1\n",
        "taxa = df1['Taxas']/((df1['Filhos'])+1)\n",
        "df1['Taxa pessoa'] = taxa\n",
        "print(df1)\n"
      ],
      "metadata": {
        "colab": {
          "base_uri": "https://localhost:8080/"
        },
        "id": "bnhZGIXPxS6A",
        "outputId": "526f1a73-c596-495a-b08c-6973e847a594"
      },
      "id": "bnhZGIXPxS6A",
      "execution_count": null,
      "outputs": [
        {
          "output_type": "stream",
          "name": "stdout",
          "text": [
            "      Idade       Sexo     IMC  Filhos Fuma        Taxas   Taxa pessoa\n",
            "0        19   feminino  27.900       0  yes  16884.92400  16884.924000\n",
            "1        18  masculino  33.770       1   no   1725.55230    862.776150\n",
            "2        28  masculino  33.000       3   no   4449.46200   1112.365500\n",
            "3        33  masculino  22.705       0   no  21984.47061  21984.470610\n",
            "4        32  masculino  28.880       0   no   3866.85520   3866.855200\n",
            "...     ...        ...     ...     ...  ...          ...           ...\n",
            "1333     50  masculino  30.970       3   no  10600.54830   2650.137075\n",
            "1334     18   feminino  31.920       0   no   2205.98080   2205.980800\n",
            "1335     18   feminino  36.850       0   no   1629.83350   1629.833500\n",
            "1336     21   feminino  25.800       0   no   2007.94500   2007.945000\n",
            "1337     61   feminino  29.070       0  yes  29141.36030  29141.360300\n",
            "\n",
            "[1338 rows x 7 columns]\n"
          ]
        }
      ]
    },
    {
      "cell_type": "code",
      "source": [
        "#Utilizando as funcionalidades do Pandas, modifique o conteúdo da coluna Fuma substituindo yes por 1 e no por 0\n",
        "df1['Fuma']= df1['Fuma'].replace(['yes','no'],['1','0'])\n",
        "\n",
        "print(df1)"
      ],
      "metadata": {
        "id": "fUdFleBWyheB",
        "colab": {
          "base_uri": "https://localhost:8080/"
        },
        "outputId": "124f6101-4299-4a14-d8a6-8c98d6b6efc0"
      },
      "id": "fUdFleBWyheB",
      "execution_count": null,
      "outputs": [
        {
          "output_type": "stream",
          "name": "stdout",
          "text": [
            "      Idade       Sexo     IMC  Filhos Fuma        Taxas   Taxa pessoa\n",
            "0        19   feminino  27.900       0    1  16884.92400  16884.924000\n",
            "1        18  masculino  33.770       1    0   1725.55230    862.776150\n",
            "2        28  masculino  33.000       3    0   4449.46200   1112.365500\n",
            "3        33  masculino  22.705       0    0  21984.47061  21984.470610\n",
            "4        32  masculino  28.880       0    0   3866.85520   3866.855200\n",
            "...     ...        ...     ...     ...  ...          ...           ...\n",
            "1333     50  masculino  30.970       3    0  10600.54830   2650.137075\n",
            "1334     18   feminino  31.920       0    0   2205.98080   2205.980800\n",
            "1335     18   feminino  36.850       0    0   1629.83350   1629.833500\n",
            "1336     21   feminino  25.800       0    0   2007.94500   2007.945000\n",
            "1337     61   feminino  29.070       0    1  29141.36030  29141.360300\n",
            "\n",
            "[1338 rows x 7 columns]\n"
          ]
        }
      ]
    },
    {
      "cell_type": "code",
      "source": [
        "#Utilizando os comandos de filtragem do Pandas, indique o número de indivíduos com idade superior a 30 anos.\n",
        "acima = df1.query('Idade > 30.00').count()\n",
        "\n",
        "print(acima['Idade'])"
      ],
      "metadata": {
        "id": "unc5ORAVypjD",
        "colab": {
          "base_uri": "https://localhost:8080/"
        },
        "outputId": "20a038d6-24ac-4d66-ecd5-739f32c3d07a"
      },
      "id": "unc5ORAVypjD",
      "execution_count": null,
      "outputs": [
        {
          "output_type": "stream",
          "name": "stdout",
          "text": [
            "894\n"
          ]
        }
      ]
    },
    {
      "cell_type": "markdown",
      "id": "d2fd828a",
      "metadata": {
        "id": "d2fd828a"
      },
      "source": [
        "## Questão 2: Peso (2,5)\n",
        "\n",
        "**A)** Faça um gráfico de barras ilustrando o percentual de indivíduos em cada uma das classes ilustradas abaixo. Utilize as funcionalidades do Pandas (**isto é, sem usar \"for\" ou \"if\"**): \n",
        " - IMC menor que 18,5: abaixo do peso\n",
        " - IMC entre 18,5 e 24,9 peso normal\n",
        " - IMC entre 25 e 29,9: sobrepeso\n",
        " - IMC maior do que 30: obesidade\n",
        "<br>\n",
        "\n",
        "\n",
        "**B)** Faça um subplot contendo dois gráficos de pizza (um do lado do outro). . Utilize as funcionalidades do Pandas (**isto é, sem usar \"for\" ou \"if\"**):\n",
        " - No primeiro gráfico deve ser ilustrando o percentual de indivíduos do sexo feminino e o percentual de indivíduos do sexo masculino\n",
        " - No segundo gráfico deverá ser ilustrado o percentual de indivíduos fumantes e percentual de indivíduos não fumantes.\n",
        " - Inclua títulos nos gráficos.\n",
        " \n",
        " \n",
        "<font color=red> Obs: Sempre que aplicável, inclua nos gráficos legendas e títulos nos eixos."
      ]
    },
    {
      "cell_type": "code",
      "execution_count": null,
      "id": "140acc9d",
      "metadata": {
        "id": "140acc9d",
        "colab": {
          "base_uri": "https://localhost:8080/",
          "height": 369
        },
        "outputId": "466a7f80-1657-44fd-edc2-e5705e0ec14c"
      },
      "outputs": [
        {
          "output_type": "display_data",
          "data": {
            "text/plain": [
              "<Figure size 360x360 with 1 Axes>"
            ],
            "image/png": "[encoded data removed]"
          },
          "metadata": {
            "needs_background": "light"
          }
        }
      ],
      "source": [
        "#Faça um gráfico de barras ilustrando o percentual de indivíduos em cada uma das classes ilustradas abaixo.\n",
        "\n",
        "abaixo = df1.query('IMC < 18.500')\n",
        "normal = df1.query('IMC >= 18.500 & IMC <= 24.999')\n",
        "sobrepeso = df1.query('IMC >= 25.000 & IMC <= 29.999')\n",
        "obesidade = df1.query('IMC > 30.000')\n",
        "\n",
        "\n",
        "x1=(abaixo['IMC'].count()*100) /1336\n",
        "x2=(normal['IMC'].count()*100) /1336\n",
        "x3=(sobrepeso['IMC'].count()*100) /1336\n",
        "x4=(obesidade['IMC'].count()*100) /1336\n",
        "\n",
        "\n",
        "plt.figure(figsize=(5,5))\n",
        "plt.title('percentuais de IMC')\n",
        "grupos = ['abaixo do peso \\n<18.5', 'peso normal\\n18.5 - 24.9', 'sobrepeso\\n25 - 29.9', 'obesidade\\n>30']\n",
        "valores = [x1, x2, x3, x4]\n",
        "plt.bar(grupos, valores)\n",
        "plt.ylabel('Valores para IMC')\n",
        "plt.xlabel('classificação IMC')\n",
        "#plt.grid()\n",
        "plt.tight_layout() \n",
        "plt.show()"
      ]
    },
    {
      "cell_type": "code",
      "execution_count": null,
      "id": "ae17ffe6",
      "metadata": {
        "id": "ae17ffe6",
        "colab": {
          "base_uri": "https://localhost:8080/",
          "height": 420
        },
        "outputId": "cba46680-1fff-4551-cbab-7d2b5cc0e360"
      },
      "outputs": [
        {
          "output_type": "execute_result",
          "data": {
            "text/plain": [
              "([<matplotlib.patches.Wedge at 0x7fecf64137d0>,\n",
              "  <matplotlib.patches.Wedge at 0x7fecf641e750>],\n",
              " [Text(-0.8801026332278259, 0.6598631335250117, ''),\n",
              "  Text(0.8801026332278258, -0.6598631335250118, '')])"
            ]
          },
          "metadata": {},
          "execution_count": 29
        },
        {
          "output_type": "display_data",
          "data": {
            "text/plain": [
              "<Figure size 864x864 with 2 Axes>"
            ],
            "image/png": "[encoded data removed]"
          },
          "metadata": {}
        }
      ],
      "source": [
        "#2B\n",
        "plt.figure(figsize=(12,12))\n",
        "plt.tight_layout()\n",
        "\n",
        "plt.subplot(1,2,1)\n",
        "plt.title('Gráfico dividido por Sexo ')\n",
        "df1.groupby(['Sexo']).Sexo.count().plot(kind='pie')\n",
        "\n",
        "\n",
        "plt.subplot(1,2,2)\n",
        "plt.title('Gráfico dividido por Fumantes')\n",
        "a = df1.groupby(['Fuma']).Fuma.count().plot(kind='pie')\n",
        "b = df1.groupby(['Fuma']).Fuma.count()\n",
        "\n",
        "#plt.pie(b, explode = none, labels = a)\n",
        "\n",
        "plt.pie(b)\n",
        "#plt.setp(autotexts, size=8, weight=\"bold\")\n",
        "\n"
      ]
    },
    {
      "cell_type": "markdown",
      "id": "b5df97b0",
      "metadata": {
        "id": "b5df97b0"
      },
      "source": [
        "## Questão 3: Peso (2,5)\n",
        "- Crie um dataframe denominado **DF2** contendo apenas os dados dos indivíduos não fumantes e que não possuem filhos\n",
        "- Utilizando a **função curve_fit do scipy** e os **dados do DF2** ajuste o seguinte modelo (onde *a*,*b* e *c* são os parâmetros de ajuste do modelo e as variáveis *taxa* e **idade** são os dados contidos no **DF2**:\n",
        "\\begin{equation}\n",
        "taxa= a(idade)+b(idade)^2+\\frac{c}{idade}\n",
        "\\end{equation}\n",
        "<br>\n",
        "- Faça um gráfico de dispersão, contendo os dados reais de taxa e os dados estimados pelo modelo.\n",
        "<br>\n",
        "\n",
        "<font color=red> Obs: Sempre que aplicável, inclua nos gráficos legendas e títulos nos eixos."
      ]
    },
    {
      "cell_type": "code",
      "source": [
        "from scipy.optimize import curve_fit"
      ],
      "metadata": {
        "id": "jSl1qimp0l7m"
      },
      "id": "jSl1qimp0l7m",
      "execution_count": null,
      "outputs": []
    },
    {
      "cell_type": "code",
      "source": [
        "df2 = df1[(df1['Fuma']=='0')&(df1['Filhos']==0)]\n",
        "\n",
        "print(df2['Fuma'])\n",
        "print(df2['Filhos'])\n",
        "\n",
        "#print(df2['Fuma'].count())\n",
        "#print(df2['Filhos'].count())\n"
      ],
      "metadata": {
        "id": "hqHMPG7oyJcS",
        "colab": {
          "base_uri": "https://localhost:8080/"
        },
        "outputId": "dfa46748-c4ba-46d2-817e-645192114e8a"
      },
      "id": "hqHMPG7oyJcS",
      "execution_count": null,
      "outputs": [
        {
          "output_type": "stream",
          "name": "stdout",
          "text": [
            "3       0\n",
            "4       0\n",
            "5       0\n",
            "9       0\n",
            "10      0\n",
            "       ..\n",
            "1326    0\n",
            "1331    0\n",
            "1334    0\n",
            "1335    0\n",
            "1336    0\n",
            "Name: Fuma, Length: 459, dtype: object\n",
            "3       0\n",
            "4       0\n",
            "5       0\n",
            "9       0\n",
            "10      0\n",
            "       ..\n",
            "1326    0\n",
            "1331    0\n",
            "1334    0\n",
            "1335    0\n",
            "1336    0\n",
            "Name: Filhos, Length: 459, dtype: int64\n"
          ]
        }
      ]
    },
    {
      "cell_type": "code",
      "source": [
        "def x(idade,a,b,c):\n",
        "  return a*idade+b*idade**2+(c/idade)\n",
        "\n",
        "t = curve_fit(x, df2['Idade'], df2['Taxas']);\n",
        "print(t[0])\n",
        "\n",
        "novaTaxa = x(df2['Idade'], t[0][0], t[0][1], t[0][2])\n",
        "\n",
        "plt.plot(df2['Idade'],novaTaxa, label= 'Dado estimado')\n",
        "plt.plot(df2['Idade'], df2['Taxas'], 'o', label = 'Dado real')\n",
        "\n",
        "plt.title('Modelo')\n",
        "plt.xlabel('Idade')\n",
        "plt.ylabel('Taxa')\n",
        "plt.show()"
      ],
      "metadata": {
        "id": "wLsULY_2ymGC",
        "colab": {
          "base_uri": "https://localhost:8080/",
          "height": 312
        },
        "outputId": "9e3be700-e456-41af-ec42-b8552a7e6fca"
      },
      "id": "wLsULY_2ymGC",
      "execution_count": null,
      "outputs": [
        {
          "output_type": "stream",
          "name": "stdout",
          "text": [
            "[  96.20022158    2.13866431 1992.82635557]\n"
          ]
        },
        {
          "output_type": "display_data",
          "data": {
            "text/plain": [
              "<Figure size 432x288 with 1 Axes>"
            ],
            "image/png": "[encoded data removed]"
          },
          "metadata": {
            "needs_background": "light"
          }
        }
      ]
    },
    {
      "cell_type": "markdown",
      "id": "bc8a1274",
      "metadata": {
        "id": "bc8a1274"
      },
      "source": [
        "## Questão 4: Peso (2,5)\n",
        "Crie um novo Dataframe com 50 linhas hipotéticas:\n",
        "- A coluna **idade** deve conter valores aleatórios entre 20 e 80 (inteiros).\n",
        "- A coluna **filhos** deve conter valores aleatórios entre 0 e 5 (inteiros).\n",
        "- A coluna **imc** deve conter valores aleatórios entre 16 e 40 (float).\n",
        "- A coluna **taxa** deve conter o resultado do cálculo abaixo, utilizando os dados hipotéticos gerados.\n",
        "<br>\n",
        "\n",
        "\\begin{equation}\n",
        "taxa= 100(idade +5(filhos) + 1.5(IMC))\n",
        "\\end{equation}\n",
        "<br>\n",
        "\n",
        "- Salvar o dataframe gerado no formado .csv."
      ]
    },
    {
      "cell_type": "code",
      "execution_count": null,
      "id": "8e8d90b3",
      "metadata": {
        "id": "8e8d90b3",
        "colab": {
          "base_uri": "https://localhost:8080/"
        },
        "outputId": "b7dd37f5-c7e1-44ef-9f57-ec0b2d2a20be"
      },
      "outputs": [
        {
          "output_type": "stream",
          "name": "stdout",
          "text": [
            "    Idade  Filhos        IMC          Taxa\n",
            "0      30       2  35.715190   9357.278510\n",
            "1      59       2  15.245860   9186.879023\n",
            "2      50       3  14.690042   8703.506358\n",
            "3      42       2  17.087271   7763.090639\n",
            "4      30       0  30.907715   7636.157318\n",
            "5      28       4  34.486397   9972.959576\n",
            "6      71       2  23.546111  11631.916576\n",
            "7      23       1  29.388331   7208.249603\n",
            "8      33       1  20.008938   6801.340702\n",
            "9      29       0  34.984429   8147.664322\n",
            "10     76       4  39.828895  15574.334317\n",
            "11     55       1  20.906002   9135.900373\n",
            "12     77       4  33.720812  14758.121851\n",
            "13     66       2  20.420485  10663.072786\n",
            "14     53       2  19.338822   9200.823312\n",
            "15     44       0  18.710948   7206.642145\n",
            "16     75       3  19.182553  11877.383021\n",
            "17     33       3  34.050198   9907.529685\n",
            "18     41       4  21.633764   9345.064535\n",
            "19     33       1  25.332703   7599.905451\n",
            "20     35       3  30.709952   9606.492797\n",
            "21     61       1  29.200767  10980.114994\n",
            "22     61       0  19.319605   8997.940774\n",
            "23     20       2  38.022625   8703.393703\n",
            "24     21       4  39.748184  10062.227632\n",
            "25     42       2  18.490028   7973.504138\n",
            "26     20       0  36.828962   7524.344316\n",
            "27     54       1  37.737675  11560.651286\n",
            "28     52       1  22.384301   9057.645201\n",
            "29     20       4  20.418072   7062.710809\n",
            "30     43       1  33.015686   9752.352838\n",
            "31     59       4  29.491275  12323.691283\n",
            "32     70       4  18.178124  11726.718613\n",
            "33     64       1  22.890163  10333.524391\n",
            "34     51       3  20.817176   9722.576368\n",
            "35     43       4  21.109466   9466.419839\n",
            "36     53       4  35.766048  12664.907143\n",
            "37     26       2  35.949111   8992.366661\n",
            "38     77       3  23.837379  12775.606897\n",
            "39     30       1  26.107084   7416.062541\n",
            "40     25       1  31.542453   7731.368006\n",
            "41     60       1  36.868985  12030.347683\n",
            "42     71       1  23.157537  11073.630535\n",
            "43     43       2  32.209369  10131.405340\n",
            "44     32       1  37.441823   9316.273467\n",
            "45     75       2  29.993734  12999.060096\n",
            "46     78       4  24.463529  13469.529364\n",
            "47     47       4  16.327871   9149.180662\n",
            "48     54       3  26.788425  10918.263765\n",
            "49     24       0  39.604695   8340.704287\n"
          ]
        }
      ],
      "source": [
        "from numpy import random\n",
        "4#\n",
        "idade = list(random.randint(20,80, size=(50)))\n",
        "#print(idade)\n",
        "filhos = list(random.randint(0,5, size=(50)))\n",
        "#print(filhos)\n",
        "imc = list(random.uniform(14.0, 40, size=(50)))\n",
        "#print(imc)\n",
        "\n",
        "list_of_tuples = list(zip(idade,filhos,imc))\n",
        "df = pd.DataFrame(list_of_tuples, columns = ['Idade', 'Filhos','IMC'])\n",
        "df = df.eval('Taxa = 100*(Idade+(5*Filhos)+(1.5*IMC))')\n",
        "\n",
        "print(df)\n"
      ]
    },
    {
      "cell_type": "code",
      "source": [
        "#df.to_csv(index=False)\n",
        "df.to_csv(\"/content/drive/MyDrive/5semestre/Python/2022/Trabalho2/questao4.csv\",';')\n",
        "\n",
        "\n"
      ],
      "metadata": {
        "id": "0Pr-yVe9i6Gd"
      },
      "id": "0Pr-yVe9i6Gd",
      "execution_count": null,
      "outputs": []
    }
  ],
  "metadata": {
    "kernelspec": {
      "display_name": "Python 3 (ipykernel)",
      "language": "python",
      "name": "python3"
    },
    "language_info": {
      "codemirror_mode": {
        "name": "ipython",
        "version": 3
      },
      "file_extension": ".py",
      "mimetype": "text/x-python",
      "name": "python",
      "nbconvert_exporter": "python",
      "pygments_lexer": "ipython3",
      "version": "3.7.9"
    },
    "colab": {
      "provenance": []
    }
  },
  "nbformat": 4,
  "nbformat_minor": 5
}